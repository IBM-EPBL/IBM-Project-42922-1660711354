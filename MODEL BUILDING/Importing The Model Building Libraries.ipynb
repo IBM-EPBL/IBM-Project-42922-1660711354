{
 "cells": [
  {
   "cell_type": "markdown",
   "metadata": {
    "id": "5UKKDaCfUNCG"
   },
   "source": [
    "#Importing Keras libraries"
   ]
  },
  {
   "cell_type": "code",
   "execution_count": null,
   "metadata": {
    "id": "ipCWLeFzUXGa"
   },
   "outputs": [],
   "source": [
    "import keras"
   ]
  },
  {
   "cell_type": "markdown",
   "metadata": {
    "id": "RNeZ0vrEUc55"
   },
   "source": [
    "#Importing ImageDataGenerator from Keras"
   ]
  },
  {
   "cell_type": "code",
   "execution_count": null,
   "metadata": {
    "id": "Mx2JxqSDUnPk"
   },
   "outputs": [],
   "source": [
    "from matplotlib import pyplot as plt\n",
    "from keras.preprocessing.image import ImageDataGenerator"
   ]
  },
  {
   "cell_type": "markdown",
   "metadata": {
    "id": "p7bB9Cd1b8kG"
   },
   "source": [
    "#Defining the Parameters"
   ]
  },
  {
   "cell_type": "code",
   "execution_count": null,
   "metadata": {
    "id": "A1iR_1R-cKY4"
   },
   "outputs": [],
   "source": [
    "train_datagen=ImageDataGenerator(rescale=1./255,shear_range=0.2,rotation_range=180,zoom_range=0.2,horizontal_flip=True)\n",
    "test_datagen=ImageDataGenerator(rescale=1./255)\n"
   ]
  },
  {
   "cell_type": "markdown",
   "metadata": {
    "id": "6mmovZihrOW6"
   },
   "source": []
  },
  {
   "cell_type": "markdown",
   "metadata": {
    "id": "pbYsUSI9rrd9"
   },
   "source": [
    "#Applying ImageDataGenerator functionality to train dataset\n",
    "\n"
   ]
  },
  {
   "cell_type": "code",
   "execution_count": null,
   "metadata": {
    "colab": {
     "base_uri": "https://localhost:8080/"
    },
    "id": "jkgacY2Su-U1",
    "outputId": "abdf4da7-ed6a-4495-c482-0ea4ff2fa122"
   },
   "outputs": [
    {
     "name": "stdout",
     "output_type": "stream",
     "text": [
      "Mounted at /content/drive\n"
     ]
    }
   ],
   "source": [
    "from google.colab import drive\n",
    "drive.mount('/content/drive')"
   ]
  },
  {
   "cell_type": "code",
   "execution_count": null,
   "metadata": {
    "colab": {
     "base_uri": "https://localhost:8080/"
    },
    "id": "3ou6I0e9sR7o",
    "outputId": "620d27ff-bc9a-442b-9218-616594b7f228"
   },
   "outputs": [
    {
     "name": "stdout",
     "output_type": "stream",
     "text": [
      "Found 436 images belonging to 2 classes.\n"
     ]
    }
   ],
   "source": [
    "x_train=train_datagen.flow_from_directory('/content/drive/MyDrive/IBM PROJECT/dataset/DATA SET/archive/Dataset/Dataset/train_set',target_size=(128,128),batch_size=32,class_mode='binary')\n"
   ]
  },
  {
   "cell_type": "markdown",
   "metadata": {
    "id": "943_QP5BtsLF"
   },
   "source": [
    "#Applying ImageDataGenerator functionality to test dataset"
   ]
  },
  {
   "cell_type": "code",
   "execution_count": null,
   "metadata": {
    "colab": {
     "base_uri": "https://localhost:8080/"
    },
    "id": "vIgeaeLht0Sn",
    "outputId": "a49ef9f5-07ae-4583-9af1-d5bb5502a627"
   },
   "outputs": [
    {
     "name": "stdout",
     "output_type": "stream",
     "text": [
      "Found 121 images belonging to 2 classes.\n"
     ]
    }
   ],
   "source": [
    "x_test=test_datagen.flow_from_directory('/content/drive/MyDrive/IBM PROJECT/dataset/DATA SET/archive/Dataset/Dataset/test_set',target_size=(128,128),batch_size=32,class_mode='binary')\n"
   ]
  },
  {
   "cell_type": "markdown",
   "metadata": {
    "id": "ARyKyJLrVbK5"
   },
   "source": [
    "#Importing Model Building Libraries"
   ]
  },
  {
   "cell_type": "code",
   "execution_count": 11,
   "metadata": {
    "id": "0sMPVWxFVg5P"
   },
   "outputs": [],
   "source": [
    "#to define the linear Initialisation import sequential\n",
    "from keras.models import Sequential\n",
    "#to add layers import Dense\n",
    "from keras.layers import Dense\n",
    "#to create Convolutional kernel import convolution2D\n",
    "from keras.layers import Convolution2D\n",
    "#import Maxpooling layer \n",
    "from keras.layers import MaxPooling2D\n",
    "#import flatten layer\n",
    "from keras.layers import Flatten\n",
    "import warnings\n",
    "warnings.filterwarnings('ignore')"
   ]
  },
  {
   "cell_type": "markdown",
   "metadata": {
    "id": "_LVXcOT9eLM3"
   },
   "source": [
    "#Initializing the model"
   ]
  },
  {
   "cell_type": "code",
   "execution_count": 12,
   "metadata": {
    "id": "TquY2jOfeRQF"
   },
   "outputs": [],
   "source": [
    "model=Sequential()"
   ]
  },
  {
   "cell_type": "markdown",
   "metadata": {
    "id": "CqOjIFO2eaKf"
   },
   "source": [
    "#Adding CNN Layers"
   ]
  },
  {
   "cell_type": "code",
   "execution_count": 13,
   "metadata": {
    "id": "myoMJiBxeh3q"
   },
   "outputs": [],
   "source": [
    "model.add(Convolution2D(32,(3,3),input_shape=(128,128,3),activation='relu'))\n",
    "#add maxpooling layers\n",
    "model.add(MaxPooling2D(pool_size=(2,2)))\n",
    "#add faltten layer\n",
    "model.add(Flatten())"
   ]
  },
  {
   "cell_type": "markdown",
   "metadata": {
    "id": "x67h-tMPfpHG"
   },
   "source": [
    "#Add Dense layers"
   ]
  },
  {
   "cell_type": "code",
   "execution_count": 19,
   "metadata": {
    "id": "JodC_f4Vfsn3"
   },
   "outputs": [],
   "source": [
    "#add hidden layers\n",
    "model.add(Dense(150,activation='relu'))\n",
    "#add output layer\n",
    "model.add(Dense(1,activation='sigmoid'))"
   ]
  },
  {
   "cell_type": "markdown",
   "metadata": {
    "id": "ELm-4mBdgfOv"
   },
   "source": [
    "#configuring the learning process"
   ]
  },
  {
   "cell_type": "code",
   "execution_count": 20,
   "metadata": {
    "id": "evmGQQWXgo1t"
   },
   "outputs": [],
   "source": [
    "model.compile(loss='binary_crossentropy',optimizer=\"adam\",metrics=[\"accuracy\"])"
   ]
  },
  {
   "cell_type": "markdown",
   "metadata": {
    "id": "80s2C38ThYaj"
   },
   "source": [
    "#Training the model"
   ]
  },
  {
   "cell_type": "code",
   "execution_count": 23,
   "metadata": {
    "colab": {
     "base_uri": "https://localhost:8080/",
     "height": 0
    },
    "id": "3Cy0ktrJhcfT",
    "outputId": "771e8548-7ee5-447c-fc6a-dafc669c30fd"
   },
   "outputs": [
    {
     "name": "stdout",
     "output_type": "stream",
     "text": [
      "Epoch 1/10\n",
      "14/14 [==============================] - 322s 19s/step - loss: 1.5998 - accuracy: 0.7133 - val_loss: 0.1776 - val_accuracy: 0.9421\n",
      "Epoch 2/10\n",
      "14/14 [==============================] - 26s 2s/step - loss: 0.3427 - accuracy: 0.8624 - val_loss: 0.2325 - val_accuracy: 0.8926\n",
      "Epoch 3/10\n",
      "14/14 [==============================] - 32s 2s/step - loss: 0.2979 - accuracy: 0.8853 - val_loss: 0.0970 - val_accuracy: 0.9752\n",
      "Epoch 4/10\n",
      "14/14 [==============================] - 29s 2s/step - loss: 0.2585 - accuracy: 0.8922 - val_loss: 0.0621 - val_accuracy: 0.9752\n",
      "Epoch 5/10\n",
      "14/14 [==============================] - 29s 2s/step - loss: 0.1926 - accuracy: 0.9243 - val_loss: 0.0688 - val_accuracy: 0.9835\n",
      "Epoch 6/10\n",
      "14/14 [==============================] - 30s 2s/step - loss: 0.1971 - accuracy: 0.9266 - val_loss: 0.0815 - val_accuracy: 0.9752\n",
      "Epoch 7/10\n",
      "14/14 [==============================] - 32s 2s/step - loss: 0.1781 - accuracy: 0.9289 - val_loss: 0.0571 - val_accuracy: 0.9835\n",
      "Epoch 8/10\n",
      "14/14 [==============================] - 30s 2s/step - loss: 0.1796 - accuracy: 0.9243 - val_loss: 0.0561 - val_accuracy: 0.9835\n",
      "Epoch 9/10\n",
      "14/14 [==============================] - 31s 2s/step - loss: 0.2306 - accuracy: 0.8968 - val_loss: 0.0704 - val_accuracy: 0.9835\n",
      "Epoch 10/10\n",
      "14/14 [==============================] - 27s 2s/step - loss: 0.2593 - accuracy: 0.8899 - val_loss: 0.1232 - val_accuracy: 0.9504\n"
     ]
    },
    {
     "data": {
      "text/plain": [
       "<keras.callbacks.History at 0x7fd537101390>"
      ]
     },
     "execution_count": 23,
     "metadata": {},
     "output_type": "execute_result"
    }
   ],
   "source": [
    "model.fit_generator(x_train,steps_per_epoch=14,epochs=10,validation_data=x_test,validation_steps=4)"
   ]
  },
  {
   "cell_type": "markdown",
   "metadata": {
    "id": "CSmW5ypkizjF"
   },
   "source": [
    "#Save the model"
   ]
  },
  {
   "cell_type": "code",
   "execution_count": 24,
   "metadata": {
    "id": "Q2DVxGYgi36I"
   },
   "outputs": [],
   "source": [
    "model.save(\"forest.h5\")"
   ]
  },
  {
   "cell_type": "markdown",
   "metadata": {
    "id": "G8KMppTojF__"
   },
   "source": [
    "#Predictions"
   ]
  },
  {
   "cell_type": "code",
   "execution_count": 25,
   "metadata": {
    "id": "aZxNjrmJjImS"
   },
   "outputs": [],
   "source": [
    "#import load model from keras.model\n",
    "from keras.models import load_model\n",
    "#import image from keras\n",
    "from tensorflow.keras.preprocessing import image\n",
    "import numpy as np\n",
    "#import cv2\n",
    "import cv2\n",
    "#load the saved model\n",
    "model=load_model('forest.h5')\n",
    "img=image.load_img('/content/drive/MyDrive/IBM PROJECT/dataset/DATA SET/archive/Dataset/Dataset/test_set/forest/0.64133000_1519374442_forest_deep.jpg')\n",
    "x=image.img_to_array(img)\n",
    "res=cv2.resize(x,dsize=(128,128),interpolation=cv2.INTER_CUBIC)\n",
    "#expand the image shape\n",
    "x=np.expand_dims(res,axis=0)\n",
    "\n",
    "\n"
   ]
  },
  {
   "cell_type": "code",
   "execution_count": 26,
   "metadata": {
    "colab": {
     "base_uri": "https://localhost:8080/",
     "height": 0
    },
    "id": "A3CYH-vNmkX0",
    "outputId": "533cfc63-e8f6-47df-a0e2-fcb694bb70a6"
   },
   "outputs": [
    {
     "name": "stdout",
     "output_type": "stream",
     "text": [
      "1/1 [==============================] - 0s 118ms/step\n"
     ]
    }
   ],
   "source": [
    "pred=model.predict(x)"
   ]
  },
  {
   "cell_type": "code",
   "execution_count": 27,
   "metadata": {
    "colab": {
     "base_uri": "https://localhost:8080/",
     "height": 0
    },
    "id": "eQkolLKImlSq",
    "outputId": "545fed67-663e-40d6-fca7-fb1ed840768e"
   },
   "outputs": [
    {
     "data": {
      "text/plain": [
       "array([[0.]], dtype=float32)"
      ]
     },
     "execution_count": 27,
     "metadata": {},
     "output_type": "execute_result"
    }
   ],
   "source": [
    "pred"
   ]
  }
 ],
 "metadata": {
  "colab": {
   "collapsed_sections": [],
   "provenance": []
  },
  "kernelspec": {
   "display_name": "Python 3 (ipykernel)",
   "language": "python",
   "name": "python3"
  },
  "language_info": {
   "codemirror_mode": {
    "name": "ipython",
    "version": 3
   },
   "file_extension": ".py",
   "mimetype": "text/x-python",
   "name": "python",
   "nbconvert_exporter": "python",
   "pygments_lexer": "ipython3",
   "version": "3.7.12"
  }
 },
 "nbformat": 4,
 "nbformat_minor": 1
}
