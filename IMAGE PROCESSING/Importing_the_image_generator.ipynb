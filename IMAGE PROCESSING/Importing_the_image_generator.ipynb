{
  "nbformat": 4,
  "nbformat_minor": 0,
  "metadata": {
    "colab": {
      "provenance": []
    },
    "kernelspec": {
      "name": "python3",
      "display_name": "Python 3"
    },
    "language_info": {
      "name": "python"
    }
  },
  "cells": [
    {
      "cell_type": "markdown",
      "source": [
        "The image data generator has three methods:\n",
        "1.flow()\n",
        "2.flow_from_directory()\n",
        "3.flow_from_dataframe() to read the image from a big numpy array and folders containing images.\n",
        "4.flow_from_directory()excepts atleast one directory under the given directory path."
      ],
      "metadata": {
        "id": "SpiBc_RHvxBG"
      }
    },
    {
      "cell_type": "code",
      "execution_count": null,
      "metadata": {
        "id": "n7iO2_4mrYtu"
      },
      "outputs": [],
      "source": [
        "import keras\n",
        "from keras.preprocessing.image import ImageDataGenerator"
      ]
    }
  ]
}
